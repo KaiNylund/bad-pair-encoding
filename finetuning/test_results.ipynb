{
 "cells": [
  {
   "cell_type": "code",
   "execution_count": 2,
   "metadata": {},
   "outputs": [],
   "source": [
    "import numpy as np"
   ]
  },
  {
   "cell_type": "code",
   "execution_count": 3,
   "metadata": {},
   "outputs": [
    {
     "name": "stdout",
     "output_type": "stream",
     "text": [
      "mt5-small_English-Finnish_Finnish_tokenizer_eval_metrics.npy {'bleu': 20.17921833804434, 'chrf++': 40.240204871836625}\n",
      "mt5-small_English-Finnish_Finnish_tokenizer_added_1024_eval_metrics.npy {'bleu': 17.797672400746798, 'chrf++': 38.38971796323453}\n",
      "mt5-small_English-German_default_tokenizer_eval_metrics.npy {'bleu': 18.774571138442255, 'chrf++': 39.837522072446305}\n",
      "mt5-small_English-German_German_tokenizer_eval_metrics.npy {'bleu': 18.679502894806724, 'chrf++': 39.958136031145955}\n",
      "mt5-small_English-Russian_default_tokenizer_eval_metrics.npy {'bleu': 13.377039032953734, 'chrf++': 33.28247142143525}\n",
      "mt5-small_English-Russian_Russian_tokenizer_eval_metrics.npy {'bleu': 12.966052322973857, 'chrf++': 31.60006876397573}\n"
     ]
    }
   ],
   "source": [
    "eval_path = \"../mt_models/\"\n",
    "eval_files = [\"mt5-small_English-Finnish_Finnish_tokenizer_eval_metrics.npy\",\n",
    "              \"mt5-small_English-Finnish_Finnish_tokenizer_added_1024_eval_metrics.npy\",\n",
    "              \"mt5-small_English-German_default_tokenizer_eval_metrics.npy\",\n",
    "              \"mt5-small_English-German_German_tokenizer_eval_metrics.npy\",\n",
    "              \"mt5-small_English-Russian_default_tokenizer_eval_metrics.npy\",\n",
    "              \"mt5-small_English-Russian_Russian_tokenizer_eval_metrics.npy\"]\n",
    "\n",
    "for eval_file in eval_files:\n",
    "    eval_results = np.load(eval_path + eval_file, allow_pickle=True)\n",
    "    print(eval_file, eval_results[-1])"
   ]
  },
  {
   "cell_type": "code",
   "execution_count": 2,
   "metadata": {},
   "outputs": [
    {
     "name": "stdout",
     "output_type": "stream",
     "text": [
      "0.0\n"
     ]
    }
   ],
   "source": [
    "from evaluate import load\n",
    "bleu = load(\"bleu\")\n",
    "\n",
    "preds = [\"hi\", \"I'm\", \"Kai\", \"nylund\"]\n",
    "labels = [\"hi\", \"I'm\", \"joe\", \"spland\"]\n",
    "print(bleu.compute(predictions=preds, references=labels)[\"bleu\"])\n"
   ]
  }
 ],
 "metadata": {
  "kernelspec": {
   "display_name": "arkenv",
   "language": "python",
   "name": "python3"
  },
  "language_info": {
   "codemirror_mode": {
    "name": "ipython",
    "version": 3
   },
   "file_extension": ".py",
   "mimetype": "text/x-python",
   "name": "python",
   "nbconvert_exporter": "python",
   "pygments_lexer": "ipython3",
   "version": "3.10.6"
  }
 },
 "nbformat": 4,
 "nbformat_minor": 2
}
