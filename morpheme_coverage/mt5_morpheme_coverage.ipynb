{
 "cells": [
  {
   "cell_type": "code",
   "execution_count": 22,
   "metadata": {},
   "outputs": [],
   "source": [
    "from transformers import AutoTokenizer, AutoModelForSeq2SeqLM\n",
    "from collections import defaultdict\n",
    "import pandas as pd\n",
    "import numpy as np\n",
    "from tqdm import tqdm\n",
    "import os"
   ]
  },
  {
   "cell_type": "code",
   "execution_count": 48,
   "metadata": {},
   "outputs": [],
   "source": [
    "t5_tokenizer = AutoTokenizer.from_pretrained(\"google-t5/t5-small\")\n",
    "mt5_tokenizer = AutoTokenizer.from_pretrained(\"google/mt5-small\")\n",
    "gemma_tokenizer = tokenizer = AutoTokenizer.from_pretrained(\"google/gemma-2b\")\n",
    "#mt5_model = AutoModelForSeq2SeqLM.from_pretrained(\"google/mt5-small\")\n",
    "mt5_vocab_set = set(mt5_tokenizer.get_vocab())\n",
    "t5_vocab_set = set(t5_tokenizer.get_vocab())\n",
    "gemma_vocab_set = set(gemma_tokenizer.get_vocab())"
   ]
  },
  {
   "cell_type": "code",
   "execution_count": 42,
   "metadata": {},
   "outputs": [
    {
     "name": "stderr",
     "output_type": "stream",
     "text": [
      "100%|██████████| 17/17 [00:30<00:00,  1.81s/it]\n"
     ]
    }
   ],
   "source": [
    "# Parse morphynet into dict of lang -> all morphemes:\n",
    "# Current handling of inflectional morphemes is a bit messed up for deu\n",
    "# e.g. its' hard to remove babysitt from its segmentation ge-|babysitt|-t because the lemma is babysitten\n",
    "MORPHYNET_PATH = \"/mmfs1/gscratch/ark/knylund/MorphyNet\"\n",
    "lang_to_morphemes = defaultdict(dict)\n",
    "for lang in tqdm(os.listdir(MORPHYNET_PATH)):\n",
    "    der_path = f\"{MORPHYNET_PATH}/{lang}/{lang}.derivational.v1.tsv\"\n",
    "    inf_path1 = f\"{MORPHYNET_PATH}/{lang}/{lang}.inflectional.v1.tsv\"\n",
    "    inf_path2 = f\"{MORPHYNET_PATH}/{lang}/{lang}.inflectional.segmentation.v1.tsv\"\n",
    "    if os.path.exists(der_path):\n",
    "        lang_der_morphynet = pd.read_csv(der_path, sep=\"\\t\", names=[\"source_word\", \"target_word\", \"source_POS\",\n",
    "                                                                    \"target_POS\", \"morpheme\", \"morpheme_type\"])\n",
    "        lang_der_morphemes = set(lang_der_morphynet[\"morpheme\"])\n",
    "        lang_to_morphemes[lang][\"derivational\"] = lang_der_morphemes\n",
    "    inf_path = None\n",
    "    if os.path.exists(inf_path1):\n",
    "        inf_path = inf_path1\n",
    "    elif os.path.exists(inf_path2):\n",
    "        inf_path = inf_path2\n",
    "    if inf_path:\n",
    "        lang_inf_morphynet = pd.read_csv(inf_path, sep=\"\\t\", names=[\"lemma\", \"inflected_word\",\n",
    "                                                                    \"morpheme_features\", \"morpheme_segmentation\"])\n",
    "        lang_inf_morphemes = set()\n",
    "        def update_inf_morphemes(row):\n",
    "            new_morphemes = str(row[\"morpheme_segmentation\"]).split(\"|\")[1:]\n",
    "            # special segmentation handling since deu has a different format\n",
    "            #if lang == \"deu\":\n",
    "            #    cur_morphemes = set()\n",
    "            #    for m in new_morphemes:\n",
    "            #        if \"-\" in m:\n",
    "            #            cur_morphemes.add(m.split(\" \")[0].replace(\"-\", \"\"))\n",
    "            #    new_morphemes = cur_morphemes\n",
    "            #else:\n",
    "            new_morphemes = set(m.split(\" \")[0].replace(\"-\", \"\") for m in new_morphemes)\n",
    "            #new_morphemes.discard(row[\"lemma\"])\n",
    "            lang_inf_morphemes.update(new_morphemes)\n",
    "        lang_inf_morphynet.apply(update_inf_morphemes, axis=1)\n",
    "        lang_to_morphemes[lang][\"inflectional\"] = lang_inf_morphemes\n",
    "\n",
    "np.save(\"./lang_to_morpheme_sets\", lang_to_morphemes)"
   ]
  },
  {
   "cell_type": "code",
   "execution_count": 52,
   "metadata": {},
   "outputs": [
    {
     "name": "stdout",
     "output_type": "stream",
     "text": [
      "mT5 vocab size: 250100\n",
      "Language: deu\n",
      "Inflectional morphemes in vocab: 677/2050\n",
      "Derivational morphemes in vocab: 321/499\n",
      "Language: pol\n",
      "Derivational morphemes in vocab: 293/440\n",
      "Language: hun\n",
      "Derivational morphemes in vocab: 424/658\n",
      "Language: hbs\n",
      "Derivational morphemes in vocab: 261/356\n",
      "Language: swe\n",
      "Inflectional morphemes in vocab: 25/29\n",
      "Derivational morphemes in vocab: 236/321\n",
      "Language: spa\n",
      "Derivational morphemes in vocab: 404/685\n",
      "Language: cat\n",
      "Inflectional morphemes in vocab: 41/58\n",
      "Derivational morphemes in vocab: 183/237\n",
      "Language: por\n",
      "Derivational morphemes in vocab: 274/376\n",
      "Language: ces\n",
      "Inflectional morphemes in vocab: 80/92\n",
      "Derivational morphemes in vocab: 261/349\n",
      "Language: ita\n",
      "Inflectional morphemes in vocab: 65/100\n",
      "Derivational morphemes in vocab: 436/913\n",
      "Language: fin\n",
      "Inflectional morphemes in vocab: 81/99\n",
      "Derivational morphemes in vocab: 228/425\n",
      "Language: eng\n",
      "Inflectional morphemes in vocab: 6/7\n",
      "Derivational morphemes in vocab: 853/2254\n",
      "Language: mon\n",
      "Inflectional morphemes in vocab: 70/93\n",
      "Derivational morphemes in vocab: 140/218\n",
      "Language: fra\n",
      "Inflectional morphemes in vocab: 79/118\n",
      "Derivational morphemes in vocab: 520/1191\n",
      "Language: rus\n",
      "Derivational morphemes in vocab: 274/413\n"
     ]
    }
   ],
   "source": [
    "print(f\"mT5 vocab size: {len(mt5_vocab_set)}\")\n",
    "for lang, inf_der_morphemes in lang_to_morphemes.items():\n",
    "    print(f\"Language: {lang}\")\n",
    "    if \"inflectional\" in inf_der_morphemes:\n",
    "        inf_morphemes = inf_der_morphemes[\"inflectional\"]\n",
    "        print(f\"Inflectional morphemes in vocab: {len(mt5_vocab_set.intersection(inf_morphemes))}/{len(inf_morphemes)}\")\n",
    "    if \"derivational\" in inf_der_morphemes:\n",
    "        der_morphemes = inf_der_morphemes[\"derivational\"]\n",
    "        print(f\"Derivational morphemes in vocab: {len(mt5_vocab_set.intersection(der_morphemes))}/{len(der_morphemes)}\")"
   ]
  },
  {
   "cell_type": "code",
   "execution_count": 51,
   "metadata": {},
   "outputs": [
    {
     "name": "stdout",
     "output_type": "stream",
     "text": [
      "gemma vocab size: 256000\n",
      "Language: deu\n",
      "Inflectional morphemes in vocab: 573/2050\n",
      "Derivational morphemes in vocab: 337/499\n",
      "Language: pol\n",
      "Derivational morphemes in vocab: 275/440\n",
      "Language: hun\n",
      "Derivational morphemes in vocab: 359/658\n",
      "Language: hbs\n",
      "Derivational morphemes in vocab: 202/356\n",
      "Language: swe\n",
      "Inflectional morphemes in vocab: 28/29\n",
      "Derivational morphemes in vocab: 223/321\n",
      "Language: spa\n",
      "Derivational morphemes in vocab: 440/685\n",
      "Language: cat\n",
      "Inflectional morphemes in vocab: 45/58\n",
      "Derivational morphemes in vocab: 192/237\n",
      "Language: por\n",
      "Derivational morphemes in vocab: 289/376\n",
      "Language: ces\n",
      "Inflectional morphemes in vocab: 80/92\n",
      "Derivational morphemes in vocab: 228/349\n",
      "Language: ita\n",
      "Inflectional morphemes in vocab: 69/100\n",
      "Derivational morphemes in vocab: 444/913\n",
      "Language: fin\n",
      "Inflectional morphemes in vocab: 79/99\n",
      "Derivational morphemes in vocab: 205/425\n",
      "Language: eng\n",
      "Inflectional morphemes in vocab: 6/7\n",
      "Derivational morphemes in vocab: 967/2254\n",
      "Language: mon\n",
      "Inflectional morphemes in vocab: 34/93\n",
      "Derivational morphemes in vocab: 65/218\n",
      "Language: fra\n",
      "Inflectional morphemes in vocab: 86/118\n",
      "Derivational morphemes in vocab: 574/1191\n",
      "Language: rus\n",
      "Derivational morphemes in vocab: 164/413\n"
     ]
    }
   ],
   "source": [
    "print(f\"gemma vocab size: {len(gemma_vocab_set)}\")\n",
    "for lang, inf_der_morphemes in lang_to_morphemes.items():\n",
    "    print(f\"Language: {lang}\")\n",
    "    if \"inflectional\" in inf_der_morphemes:\n",
    "        inf_morphemes = inf_der_morphemes[\"inflectional\"]\n",
    "        print(f\"Inflectional morphemes in vocab: {len(gemma_vocab_set.intersection(inf_morphemes))}/{len(inf_morphemes)}\")\n",
    "    if \"derivational\" in inf_der_morphemes:\n",
    "        der_morphemes = inf_der_morphemes[\"derivational\"]\n",
    "        print(f\"Derivational morphemes in vocab: {len(gemma_vocab_set.intersection(der_morphemes))}/{len(der_morphemes)}\")"
   ]
  },
  {
   "cell_type": "code",
   "execution_count": 50,
   "metadata": {},
   "outputs": [
    {
     "name": "stdout",
     "output_type": "stream",
     "text": [
      "T5 vocab size: 32100\n",
      "Language: deu\n",
      "Inflectional morphemes in vocab: 296/2050\n",
      "Derivational morphemes in vocab: 186/499\n",
      "Language: pol\n",
      "Derivational morphemes in vocab: 90/440\n",
      "Language: hun\n",
      "Derivational morphemes in vocab: 117/658\n",
      "Language: hbs\n",
      "Derivational morphemes in vocab: 76/356\n",
      "Language: swe\n",
      "Inflectional morphemes in vocab: 19/29\n",
      "Derivational morphemes in vocab: 105/321\n",
      "Language: spa\n",
      "Derivational morphemes in vocab: 115/685\n",
      "Language: cat\n",
      "Inflectional morphemes in vocab: 18/58\n",
      "Derivational morphemes in vocab: 76/237\n",
      "Language: por\n",
      "Derivational morphemes in vocab: 80/376\n",
      "Language: ces\n",
      "Inflectional morphemes in vocab: 24/92\n",
      "Derivational morphemes in vocab: 74/349\n",
      "Language: ita\n",
      "Inflectional morphemes in vocab: 26/100\n",
      "Derivational morphemes in vocab: 109/913\n",
      "Language: fin\n",
      "Inflectional morphemes in vocab: 24/99\n",
      "Derivational morphemes in vocab: 53/425\n",
      "Language: eng\n",
      "Inflectional morphemes in vocab: 5/7\n",
      "Derivational morphemes in vocab: 425/2254\n",
      "Language: mon\n",
      "Inflectional morphemes in vocab: 11/93\n",
      "Derivational morphemes in vocab: 8/218\n",
      "Language: fra\n",
      "Inflectional morphemes in vocab: 45/118\n",
      "Derivational morphemes in vocab: 242/1191\n",
      "Language: rus\n",
      "Derivational morphemes in vocab: 21/413\n"
     ]
    }
   ],
   "source": [
    "print(f\"T5 vocab size: {len(t5_vocab_set)}\")\n",
    "for lang, inf_der_morphemes in lang_to_morphemes.items():\n",
    "    print(f\"Language: {lang}\")\n",
    "    if \"inflectional\" in inf_der_morphemes:\n",
    "        inf_morphemes = inf_der_morphemes[\"inflectional\"]\n",
    "        print(f\"Inflectional morphemes in vocab: {len(t5_vocab_set.intersection(inf_morphemes))}/{len(inf_morphemes)}\")\n",
    "    if \"derivational\" in inf_der_morphemes:\n",
    "        der_morphemes = inf_der_morphemes[\"derivational\"]\n",
    "        print(f\"Derivational morphemes in vocab: {len(t5_vocab_set.intersection(der_morphemes))}/{len(der_morphemes)}\")"
   ]
  }
 ],
 "metadata": {
  "kernelspec": {
   "display_name": "arkenv",
   "language": "python",
   "name": "python3"
  },
  "language_info": {
   "codemirror_mode": {
    "name": "ipython",
    "version": 3
   },
   "file_extension": ".py",
   "mimetype": "text/x-python",
   "name": "python",
   "nbconvert_exporter": "python",
   "pygments_lexer": "ipython3",
   "version": "3.10.6"
  }
 },
 "nbformat": 4,
 "nbformat_minor": 2
}
