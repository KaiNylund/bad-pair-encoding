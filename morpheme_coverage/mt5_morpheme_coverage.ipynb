{
 "cells": [
  {
   "cell_type": "code",
   "execution_count": 22,
   "metadata": {},
   "outputs": [],
   "source": [
    "from transformers import AutoTokenizer, AutoModelForSeq2SeqLM\n",
    "from collections import defaultdict\n",
    "import pandas as pd\n",
    "import numpy as np\n",
    "from tqdm import tqdm\n",
    "import os"
   ]
  },
  {
   "cell_type": "code",
   "execution_count": 29,
   "metadata": {},
   "outputs": [
    {
     "name": "stderr",
     "output_type": "stream",
     "text": [
      "/mmfs1/gscratch/ark/knylund/.conda/envs/arkenv/lib/python3.10/site-packages/transformers/convert_slow_tokenizer.py:550: UserWarning: The sentencepiece tokenizer that you are converting to a fast tokenizer uses the byte fallback option which is not implemented in the fast tokenizers. In practice this means that the fast version of the tokenizer can produce unknown tokens whereas the sentencepiece version would have converted these unknown tokens into a sequence of byte tokens matching the original piece of text.\n",
      "  warnings.warn(\n"
     ]
    }
   ],
   "source": [
    "mt5_tokenizer = AutoTokenizer.from_pretrained(\"google/mt5-small\")\n",
    "#mt5_model = AutoModelForSeq2SeqLM.from_pretrained(\"google/mt5-small\")\n",
    "mt5_vocab_set = set(mt5_tokenizer.get_vocab())"
   ]
  },
  {
   "cell_type": "code",
   "execution_count": 34,
   "metadata": {},
   "outputs": [
    {
     "name": "stderr",
     "output_type": "stream",
     "text": [
      "100%|██████████| 17/17 [00:39<00:00,  2.32s/it]\n"
     ]
    }
   ],
   "source": [
    "# Parse morphynet into dict of lang -> all morphemes:\n",
    "MORPHYNET_PATH = \"/mmfs1/gscratch/ark/knylund/MorphyNet\"\n",
    "lang_to_morphemes = defaultdict(dict)\n",
    "for lang in tqdm(os.listdir(MORPHYNET_PATH)):\n",
    "    der_path = f\"{MORPHYNET_PATH}/{lang}/{lang}.derivational.v1.tsv\"\n",
    "    inf_path = f\"{MORPHYNET_PATH}/{lang}/{lang}.inflectional.v1.tsv\"\n",
    "    if os.path.exists(der_path):\n",
    "        lang_der_morphynet = pd.read_csv(der_path, sep=\"\\t\", names=[\"source_word\", \"target_word\", \"source_POS\",\n",
    "                                                                    \"target_POS\", \"morpheme\", \"morpheme_type\"])\n",
    "        lang_der_morphemes = set(lang_der_morphynet[\"morpheme\"])\n",
    "        lang_to_morphemes[lang][\"derivational\"] = lang_der_morphemes\n",
    "    if os.path.exists(inf_path):\n",
    "        lang_inf_morphynet = pd.read_csv(inf_path, sep=\"\\t\", names=[\"lemma\", \"inflected_word\",\n",
    "                                                                    \"morpheme_features\", \"morpheme_segmentation\"])\n",
    "        lang_inf_morphemes = set()\n",
    "        def update_inf_morphemes(row):\n",
    "            new_morphemes = set(str(row[\"morpheme_segmentation\"]).split(\"|\"))\n",
    "            new_morphemes.discard(row[\"lemma\"])\n",
    "            lang_inf_morphemes.update(new_morphemes)\n",
    "        lang_inf_morphynet.apply(update_inf_morphemes, axis=1)\n",
    "        lang_to_morphemes[lang][\"inflectional\"] = lang_inf_morphemes\n",
    "\n",
    "np.save(\"./lang_to_morpheme_sets\", lang_to_morphemes)"
   ]
  },
  {
   "cell_type": "code",
   "execution_count": 35,
   "metadata": {},
   "outputs": [
    {
     "name": "stdout",
     "output_type": "stream",
     "text": [
      "Language: deu\n",
      "Inflectional morphemes in vocab: 763/13365\n",
      "Derivational morphemes in vocab: 321/499\n",
      "Language: pol\n",
      "Derivational morphemes in vocab: 293/440\n",
      "Language: hun\n",
      "Derivational morphemes in vocab: 424/658\n",
      "Language: hbs\n",
      "Derivational morphemes in vocab: 261/356\n",
      "Language: swe\n",
      "Inflectional morphemes in vocab: 36/716\n",
      "Derivational morphemes in vocab: 236/321\n",
      "Language: spa\n",
      "Derivational morphemes in vocab: 404/685\n",
      "Language: cat\n",
      "Inflectional morphemes in vocab: 43/61\n",
      "Derivational morphemes in vocab: 183/237\n",
      "Language: por\n",
      "Derivational morphemes in vocab: 274/376\n",
      "Language: ces\n",
      "Inflectional morphemes in vocab: 82/134\n",
      "Derivational morphemes in vocab: 261/349\n",
      "Language: ita\n",
      "Inflectional morphemes in vocab: 66/104\n",
      "Derivational morphemes in vocab: 436/913\n",
      "Language: fin\n",
      "Inflectional morphemes in vocab: 259/7312\n",
      "Derivational morphemes in vocab: 228/425\n",
      "Language: eng\n",
      "Inflectional morphemes in vocab: 8/8\n",
      "Derivational morphemes in vocab: 853/2254\n",
      "Language: mon\n",
      "Inflectional morphemes in vocab: 70/93\n",
      "Derivational morphemes in vocab: 140/218\n",
      "Language: fra\n",
      "Inflectional morphemes in vocab: 80/121\n",
      "Derivational morphemes in vocab: 520/1191\n",
      "Language: rus\n",
      "Derivational morphemes in vocab: 274/413\n"
     ]
    }
   ],
   "source": [
    "for lang, inf_der_morphemes in lang_to_morphemes.items():\n",
    "    print(f\"Language: {lang}\")\n",
    "    if \"inflectional\" in inf_der_morphemes:\n",
    "        inf_morphemes = inf_der_morphemes[\"inflectional\"]\n",
    "        print(f\"Inflectional morphemes in vocab: {len(mt5_vocab_set.intersection(inf_morphemes))}/{len(inf_morphemes)}\")\n",
    "    if \"derivational\" in inf_der_morphemes:\n",
    "        der_morphemes = inf_der_morphemes[\"derivational\"]\n",
    "        print(f\"Derivational morphemes in vocab: {len(mt5_vocab_set.intersection(der_morphemes))}/{len(der_morphemes)}\")"
   ]
  }
 ],
 "metadata": {
  "kernelspec": {
   "display_name": "arkenv",
   "language": "python",
   "name": "python3"
  },
  "language_info": {
   "codemirror_mode": {
    "name": "ipython",
    "version": 3
   },
   "file_extension": ".py",
   "mimetype": "text/x-python",
   "name": "python",
   "nbconvert_exporter": "python",
   "pygments_lexer": "ipython3",
   "version": "3.10.6"
  }
 },
 "nbformat": 4,
 "nbformat_minor": 2
}
